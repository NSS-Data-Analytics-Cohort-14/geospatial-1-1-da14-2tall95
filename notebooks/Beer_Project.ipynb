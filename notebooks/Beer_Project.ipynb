{
 "cells": [
  {
   "cell_type": "code",
   "execution_count": 1,
   "id": "bc82991e-8ab1-4e25-8b31-93ef638d3bf6",
   "metadata": {},
   "outputs": [],
   "source": [
    "import pandas as pd\n",
    "import geopandas as gpd\n",
    "import matplotlib.pyplot as plt\n",
    "import folium\n",
    "from folium.plugins import MarkerCluster\n",
    "from folium.plugins import FastMarkerCluster"
   ]
  },
  {
   "cell_type": "code",
   "execution_count": 2,
   "id": "6d672b1e-bb55-400a-ad44-24521c2466a8",
   "metadata": {},
   "outputs": [
    {
     "name": "stdout",
     "output_type": "stream",
     "text": [
      "EPSG:4326\n"
     ]
    },
    {
     "data": {
      "text/html": [
       "<div>\n",
       "<style scoped>\n",
       "    .dataframe tbody tr th:only-of-type {\n",
       "        vertical-align: middle;\n",
       "    }\n",
       "\n",
       "    .dataframe tbody tr th {\n",
       "        vertical-align: top;\n",
       "    }\n",
       "\n",
       "    .dataframe thead th {\n",
       "        text-align: right;\n",
       "    }\n",
       "</style>\n",
       "<table border=\"1\" class=\"dataframe\">\n",
       "  <thead>\n",
       "    <tr style=\"text-align: right;\">\n",
       "      <th></th>\n",
       "      <th>ObjectId</th>\n",
       "      <th>Permit__</th>\n",
       "      <th>Status</th>\n",
       "      <th>Permit_Type</th>\n",
       "      <th>Permit_Sub_Type</th>\n",
       "      <th>Permit_Subtype_Description</th>\n",
       "      <th>Date_Entered</th>\n",
       "      <th>Date_Issued</th>\n",
       "      <th>Parcel</th>\n",
       "      <th>Business_Name</th>\n",
       "      <th>Business_Owner</th>\n",
       "      <th>Address</th>\n",
       "      <th>City</th>\n",
       "      <th>State</th>\n",
       "      <th>ZIP</th>\n",
       "      <th>Council_Dist</th>\n",
       "      <th>Census_Tract</th>\n",
       "      <th>Lon</th>\n",
       "      <th>Lat</th>\n",
       "      <th>geometry</th>\n",
       "    </tr>\n",
       "  </thead>\n",
       "  <tbody>\n",
       "    <tr>\n",
       "      <th>0</th>\n",
       "      <td>1</td>\n",
       "      <td>21-27149</td>\n",
       "      <td>ISSUED</td>\n",
       "      <td>BBPERMIT</td>\n",
       "      <td>ONSALES</td>\n",
       "      <td>BB - On Site Sales</td>\n",
       "      <td>Thu, 01 Apr 2021 05:00:00 GMT</td>\n",
       "      <td>Thu, 29 Jul 2021 05:00:00 GMT</td>\n",
       "      <td>10308006000</td>\n",
       "      <td>LOLA NASHVILLE, LLC</td>\n",
       "      <td>None</td>\n",
       "      <td>4401  MURPHY RD</td>\n",
       "      <td>NASHVILLE</td>\n",
       "      <td>TN</td>\n",
       "      <td>37209.0</td>\n",
       "      <td>24</td>\n",
       "      <td>37013400</td>\n",
       "      <td>-86.839203</td>\n",
       "      <td>36.140724</td>\n",
       "      <td>POINT (-86.83920 36.14072)</td>\n",
       "    </tr>\n",
       "    <tr>\n",
       "      <th>1</th>\n",
       "      <td>2</td>\n",
       "      <td>21-27151</td>\n",
       "      <td>ISSUED</td>\n",
       "      <td>BBPERMIT</td>\n",
       "      <td>ONOFFSALES</td>\n",
       "      <td>BB - On &amp; Off Site Sales</td>\n",
       "      <td>Fri, 02 Apr 2021 05:00:00 GMT</td>\n",
       "      <td>Thu, 29 Jul 2021 05:00:00 GMT</td>\n",
       "      <td>07207029200</td>\n",
       "      <td>BITE A BIT THAI SUSHI</td>\n",
       "      <td>KEVIN SICHOUMPHONH</td>\n",
       "      <td>1402  MCGAVOCK PIKE</td>\n",
       "      <td>NASHVILLE</td>\n",
       "      <td>TN</td>\n",
       "      <td>37216.0</td>\n",
       "      <td>7</td>\n",
       "      <td>37011500</td>\n",
       "      <td>-86.723963</td>\n",
       "      <td>36.204799</td>\n",
       "      <td>POINT (-86.72396 36.20480)</td>\n",
       "    </tr>\n",
       "    <tr>\n",
       "      <th>2</th>\n",
       "      <td>3</td>\n",
       "      <td>21-27153</td>\n",
       "      <td>ISSUED</td>\n",
       "      <td>BBPERMIT</td>\n",
       "      <td>ONSALES</td>\n",
       "      <td>BB - On Site Sales</td>\n",
       "      <td>Mon, 05 Apr 2021 05:00:00 GMT</td>\n",
       "      <td>Thu, 15 Sep 2022 05:00:00 GMT</td>\n",
       "      <td>13314008900</td>\n",
       "      <td>404 BAR &amp; GRILL</td>\n",
       "      <td>Nancy McGrath</td>\n",
       "      <td>404  ELYSIAN FIELDS RD</td>\n",
       "      <td>NASHVILLE</td>\n",
       "      <td>TN</td>\n",
       "      <td>37211.0</td>\n",
       "      <td>26</td>\n",
       "      <td>37018901</td>\n",
       "      <td>-86.731159</td>\n",
       "      <td>36.086771</td>\n",
       "      <td>POINT (-86.73116 36.08677)</td>\n",
       "    </tr>\n",
       "    <tr>\n",
       "      <th>3</th>\n",
       "      <td>4</td>\n",
       "      <td>21-27157</td>\n",
       "      <td>ISSUED</td>\n",
       "      <td>BBPERMIT</td>\n",
       "      <td>ONSALES</td>\n",
       "      <td>BB - On Site Sales</td>\n",
       "      <td>Fri, 09 Apr 2021 05:00:00 GMT</td>\n",
       "      <td>Thu, 10 Jun 2021 05:00:00 GMT</td>\n",
       "      <td>093130C80100CO</td>\n",
       "      <td>SUNDA NEW ASIAN</td>\n",
       "      <td>None</td>\n",
       "      <td>592  12TH AVE S</td>\n",
       "      <td>NASHVILLE</td>\n",
       "      <td>TN</td>\n",
       "      <td>37203.0</td>\n",
       "      <td>19</td>\n",
       "      <td>37019500</td>\n",
       "      <td>-86.784013</td>\n",
       "      <td>36.151893</td>\n",
       "      <td>POINT (-86.78401 36.15189)</td>\n",
       "    </tr>\n",
       "    <tr>\n",
       "      <th>4</th>\n",
       "      <td>5</td>\n",
       "      <td>21-27171</td>\n",
       "      <td>ISSUED</td>\n",
       "      <td>BBPERMIT</td>\n",
       "      <td>ONSALES</td>\n",
       "      <td>BB - On Site Sales</td>\n",
       "      <td>Wed, 14 Apr 2021 05:00:00 GMT</td>\n",
       "      <td>Thu, 13 Jan 2022 06:00:00 GMT</td>\n",
       "      <td>09109003200</td>\n",
       "      <td>TEE LINE CURLING &amp; BOWLING CENTER</td>\n",
       "      <td>None</td>\n",
       "      <td>106  DULUTH AVE</td>\n",
       "      <td>NASHVILLE</td>\n",
       "      <td>TN</td>\n",
       "      <td>37209.0</td>\n",
       "      <td>20</td>\n",
       "      <td>37013202</td>\n",
       "      <td>-86.867446</td>\n",
       "      <td>36.157813</td>\n",
       "      <td>POINT (-86.86745 36.15781)</td>\n",
       "    </tr>\n",
       "  </tbody>\n",
       "</table>\n",
       "</div>"
      ],
      "text/plain": [
       "   ObjectId  Permit__  Status Permit_Type Permit_Sub_Type  \\\n",
       "0         1  21-27149  ISSUED    BBPERMIT         ONSALES   \n",
       "1         2  21-27151  ISSUED    BBPERMIT      ONOFFSALES   \n",
       "2         3  21-27153  ISSUED    BBPERMIT         ONSALES   \n",
       "3         4  21-27157  ISSUED    BBPERMIT         ONSALES   \n",
       "4         5  21-27171  ISSUED    BBPERMIT         ONSALES   \n",
       "\n",
       "  Permit_Subtype_Description                   Date_Entered  \\\n",
       "0         BB - On Site Sales  Thu, 01 Apr 2021 05:00:00 GMT   \n",
       "1   BB - On & Off Site Sales  Fri, 02 Apr 2021 05:00:00 GMT   \n",
       "2         BB - On Site Sales  Mon, 05 Apr 2021 05:00:00 GMT   \n",
       "3         BB - On Site Sales  Fri, 09 Apr 2021 05:00:00 GMT   \n",
       "4         BB - On Site Sales  Wed, 14 Apr 2021 05:00:00 GMT   \n",
       "\n",
       "                     Date_Issued          Parcel  \\\n",
       "0  Thu, 29 Jul 2021 05:00:00 GMT     10308006000   \n",
       "1  Thu, 29 Jul 2021 05:00:00 GMT     07207029200   \n",
       "2  Thu, 15 Sep 2022 05:00:00 GMT     13314008900   \n",
       "3  Thu, 10 Jun 2021 05:00:00 GMT  093130C80100CO   \n",
       "4  Thu, 13 Jan 2022 06:00:00 GMT     09109003200   \n",
       "\n",
       "                       Business_Name      Business_Owner  \\\n",
       "0                LOLA NASHVILLE, LLC                None   \n",
       "1              BITE A BIT THAI SUSHI  KEVIN SICHOUMPHONH   \n",
       "2                    404 BAR & GRILL       Nancy McGrath   \n",
       "3                    SUNDA NEW ASIAN                None   \n",
       "4  TEE LINE CURLING & BOWLING CENTER                None   \n",
       "\n",
       "                    Address       City State      ZIP  Council_Dist  \\\n",
       "0         4401  MURPHY RD    NASHVILLE    TN  37209.0            24   \n",
       "1     1402  MCGAVOCK PIKE    NASHVILLE    TN  37216.0             7   \n",
       "2  404  ELYSIAN FIELDS RD    NASHVILLE    TN  37211.0            26   \n",
       "3          592  12TH AVE S   NASHVILLE    TN  37203.0            19   \n",
       "4         106  DULUTH AVE    NASHVILLE    TN  37209.0            20   \n",
       "\n",
       "   Census_Tract        Lon        Lat                    geometry  \n",
       "0      37013400 -86.839203  36.140724  POINT (-86.83920 36.14072)  \n",
       "1      37011500 -86.723963  36.204799  POINT (-86.72396 36.20480)  \n",
       "2      37018901 -86.731159  36.086771  POINT (-86.73116 36.08677)  \n",
       "3      37019500 -86.784013  36.151893  POINT (-86.78401 36.15189)  \n",
       "4      37013202 -86.867446  36.157813  POINT (-86.86745 36.15781)  "
      ]
     },
     "execution_count": 2,
     "metadata": {},
     "output_type": "execute_result"
    }
   ],
   "source": [
    "zipcodes = gpd.read_file('../data/beer_permits.geojson')\n",
    "print(zipcodes.crs)\n",
    "zipcodes.head( )"
   ]
  },
  {
   "cell_type": "code",
   "execution_count": 3,
   "id": "2ca46ee3-83f2-40a8-a8e1-2947cd2ce2c1",
   "metadata": {},
   "outputs": [
    {
     "data": {
      "text/plain": [
       "geopandas.geodataframe.GeoDataFrame"
      ]
     },
     "execution_count": 3,
     "metadata": {},
     "output_type": "execute_result"
    }
   ],
   "source": [
    "type(zipcodes)"
   ]
  },
  {
   "cell_type": "code",
   "execution_count": 4,
   "id": "35faf1e2-7089-4526-a24f-bfc6d5b84a99",
   "metadata": {},
   "outputs": [
    {
     "data": {
      "image/svg+xml": [
       "<svg xmlns=\"http://www.w3.org/2000/svg\" xmlns:xlink=\"http://www.w3.org/1999/xlink\" width=\"100.0\" height=\"100.0\" viewBox=\"-87.8392031 35.14072435 2.0 2.0\" preserveAspectRatio=\"xMinYMin meet\"><g transform=\"matrix(1,0,0,-1,0,72.2814487)\"><circle cx=\"-86.8392031\" cy=\"36.14072435\" r=\"0.06\" stroke=\"#555555\" stroke-width=\"0.02\" fill=\"#66cc99\" opacity=\"0.6\" /></g></svg>"
      ],
      "text/plain": [
       "<POINT (-86.839 36.141)>"
      ]
     },
     "execution_count": 4,
     "metadata": {},
     "output_type": "execute_result"
    }
   ],
   "source": [
    "zipcodes.loc[0, 'geometry']"
   ]
  },
  {
   "cell_type": "code",
   "execution_count": 5,
   "id": "1abb5ee2-24ec-428e-84c9-ccba21245764",
   "metadata": {},
   "outputs": [
    {
     "name": "stdout",
     "output_type": "stream",
     "text": [
      "POINT (-86.8392031 36.14072435)\n"
     ]
    }
   ],
   "source": [
    "print(zipcodes.loc[0, 'geometry'])"
   ]
  },
  {
   "cell_type": "code",
   "execution_count": 6,
   "id": "13b36f00-a4ec-49f3-8131-d931c6304fc6",
   "metadata": {
    "scrolled": true
   },
   "outputs": [
    {
     "data": {
      "image/png": "[encoded data removed]",
      "text/plain": [
       "<Figure size 640x480 with 1 Axes>"
      ]
     },
     "metadata": {},
     "output_type": "display_data"
    }
   ],
   "source": [
    "zipcodes.plot();"
   ]
  },
  {
   "cell_type": "code",
   "execution_count": 8,
   "id": "9e6fa536-9eca-4bea-a76c-08fb7d87a0f3",
   "metadata": {},
   "outputs": [
    {
     "ename": "FileNotFoundError",
     "evalue": "[Errno 2] No such file or directory: '../data/beer_clean.csv'",
     "output_type": "error",
     "traceback": [
      "\u001b[1;31m---------------------------------------------------------------------------\u001b[0m",
      "\u001b[1;31mFileNotFoundError\u001b[0m                         Traceback (most recent call last)",
      "Cell \u001b[1;32mIn[8], line 1\u001b[0m\n\u001b[1;32m----> 1\u001b[0m beer \u001b[38;5;241m=\u001b[39m \u001b[43mpd\u001b[49m\u001b[38;5;241;43m.\u001b[39;49m\u001b[43mread_csv\u001b[49m\u001b[43m(\u001b[49m\u001b[38;5;124;43m'\u001b[39;49m\u001b[38;5;124;43m../data/beer_clean.csv\u001b[39;49m\u001b[38;5;124;43m'\u001b[39;49m\u001b[43m)\u001b[49m\n\u001b[0;32m      2\u001b[0m \u001b[38;5;28mprint\u001b[39m(beer\u001b[38;5;241m.\u001b[39mshape)\n\u001b[0;32m      3\u001b[0m beer\u001b[38;5;241m.\u001b[39mhead(\u001b[38;5;241m3\u001b[39m)\n",
      "File \u001b[1;32m~\\anaconda3\\envs\\geospatial\\lib\\site-packages\\pandas\\io\\parsers\\readers.py:1026\u001b[0m, in \u001b[0;36mread_csv\u001b[1;34m(filepath_or_buffer, sep, delimiter, header, names, index_col, usecols, dtype, engine, converters, true_values, false_values, skipinitialspace, skiprows, skipfooter, nrows, na_values, keep_default_na, na_filter, verbose, skip_blank_lines, parse_dates, infer_datetime_format, keep_date_col, date_parser, date_format, dayfirst, cache_dates, iterator, chunksize, compression, thousands, decimal, lineterminator, quotechar, quoting, doublequote, escapechar, comment, encoding, encoding_errors, dialect, on_bad_lines, delim_whitespace, low_memory, memory_map, float_precision, storage_options, dtype_backend)\u001b[0m\n\u001b[0;32m   1013\u001b[0m kwds_defaults \u001b[38;5;241m=\u001b[39m _refine_defaults_read(\n\u001b[0;32m   1014\u001b[0m     dialect,\n\u001b[0;32m   1015\u001b[0m     delimiter,\n\u001b[1;32m   (...)\u001b[0m\n\u001b[0;32m   1022\u001b[0m     dtype_backend\u001b[38;5;241m=\u001b[39mdtype_backend,\n\u001b[0;32m   1023\u001b[0m )\n\u001b[0;32m   1024\u001b[0m kwds\u001b[38;5;241m.\u001b[39mupdate(kwds_defaults)\n\u001b[1;32m-> 1026\u001b[0m \u001b[38;5;28;01mreturn\u001b[39;00m \u001b[43m_read\u001b[49m\u001b[43m(\u001b[49m\u001b[43mfilepath_or_buffer\u001b[49m\u001b[43m,\u001b[49m\u001b[43m \u001b[49m\u001b[43mkwds\u001b[49m\u001b[43m)\u001b[49m\n",
      "File \u001b[1;32m~\\anaconda3\\envs\\geospatial\\lib\\site-packages\\pandas\\io\\parsers\\readers.py:620\u001b[0m, in \u001b[0;36m_read\u001b[1;34m(filepath_or_buffer, kwds)\u001b[0m\n\u001b[0;32m    617\u001b[0m _validate_names(kwds\u001b[38;5;241m.\u001b[39mget(\u001b[38;5;124m\"\u001b[39m\u001b[38;5;124mnames\u001b[39m\u001b[38;5;124m\"\u001b[39m, \u001b[38;5;28;01mNone\u001b[39;00m))\n\u001b[0;32m    619\u001b[0m \u001b[38;5;66;03m# Create the parser.\u001b[39;00m\n\u001b[1;32m--> 620\u001b[0m parser \u001b[38;5;241m=\u001b[39m TextFileReader(filepath_or_buffer, \u001b[38;5;241m*\u001b[39m\u001b[38;5;241m*\u001b[39mkwds)\n\u001b[0;32m    622\u001b[0m \u001b[38;5;28;01mif\u001b[39;00m chunksize \u001b[38;5;129;01mor\u001b[39;00m iterator:\n\u001b[0;32m    623\u001b[0m     \u001b[38;5;28;01mreturn\u001b[39;00m parser\n",
      "File \u001b[1;32m~\\anaconda3\\envs\\geospatial\\lib\\site-packages\\pandas\\io\\parsers\\readers.py:1620\u001b[0m, in \u001b[0;36mTextFileReader.__init__\u001b[1;34m(self, f, engine, **kwds)\u001b[0m\n\u001b[0;32m   1617\u001b[0m     \u001b[38;5;28mself\u001b[39m\u001b[38;5;241m.\u001b[39moptions[\u001b[38;5;124m\"\u001b[39m\u001b[38;5;124mhas_index_names\u001b[39m\u001b[38;5;124m\"\u001b[39m] \u001b[38;5;241m=\u001b[39m kwds[\u001b[38;5;124m\"\u001b[39m\u001b[38;5;124mhas_index_names\u001b[39m\u001b[38;5;124m\"\u001b[39m]\n\u001b[0;32m   1619\u001b[0m \u001b[38;5;28mself\u001b[39m\u001b[38;5;241m.\u001b[39mhandles: IOHandles \u001b[38;5;241m|\u001b[39m \u001b[38;5;28;01mNone\u001b[39;00m \u001b[38;5;241m=\u001b[39m \u001b[38;5;28;01mNone\u001b[39;00m\n\u001b[1;32m-> 1620\u001b[0m \u001b[38;5;28mself\u001b[39m\u001b[38;5;241m.\u001b[39m_engine \u001b[38;5;241m=\u001b[39m \u001b[38;5;28;43mself\u001b[39;49m\u001b[38;5;241;43m.\u001b[39;49m\u001b[43m_make_engine\u001b[49m\u001b[43m(\u001b[49m\u001b[43mf\u001b[49m\u001b[43m,\u001b[49m\u001b[43m \u001b[49m\u001b[38;5;28;43mself\u001b[39;49m\u001b[38;5;241;43m.\u001b[39;49m\u001b[43mengine\u001b[49m\u001b[43m)\u001b[49m\n",
      "File \u001b[1;32m~\\anaconda3\\envs\\geospatial\\lib\\site-packages\\pandas\\io\\parsers\\readers.py:1880\u001b[0m, in \u001b[0;36mTextFileReader._make_engine\u001b[1;34m(self, f, engine)\u001b[0m\n\u001b[0;32m   1878\u001b[0m     \u001b[38;5;28;01mif\u001b[39;00m \u001b[38;5;124m\"\u001b[39m\u001b[38;5;124mb\u001b[39m\u001b[38;5;124m\"\u001b[39m \u001b[38;5;129;01mnot\u001b[39;00m \u001b[38;5;129;01min\u001b[39;00m mode:\n\u001b[0;32m   1879\u001b[0m         mode \u001b[38;5;241m+\u001b[39m\u001b[38;5;241m=\u001b[39m \u001b[38;5;124m\"\u001b[39m\u001b[38;5;124mb\u001b[39m\u001b[38;5;124m\"\u001b[39m\n\u001b[1;32m-> 1880\u001b[0m \u001b[38;5;28mself\u001b[39m\u001b[38;5;241m.\u001b[39mhandles \u001b[38;5;241m=\u001b[39m \u001b[43mget_handle\u001b[49m\u001b[43m(\u001b[49m\n\u001b[0;32m   1881\u001b[0m \u001b[43m    \u001b[49m\u001b[43mf\u001b[49m\u001b[43m,\u001b[49m\n\u001b[0;32m   1882\u001b[0m \u001b[43m    \u001b[49m\u001b[43mmode\u001b[49m\u001b[43m,\u001b[49m\n\u001b[0;32m   1883\u001b[0m \u001b[43m    \u001b[49m\u001b[43mencoding\u001b[49m\u001b[38;5;241;43m=\u001b[39;49m\u001b[38;5;28;43mself\u001b[39;49m\u001b[38;5;241;43m.\u001b[39;49m\u001b[43moptions\u001b[49m\u001b[38;5;241;43m.\u001b[39;49m\u001b[43mget\u001b[49m\u001b[43m(\u001b[49m\u001b[38;5;124;43m\"\u001b[39;49m\u001b[38;5;124;43mencoding\u001b[39;49m\u001b[38;5;124;43m\"\u001b[39;49m\u001b[43m,\u001b[49m\u001b[43m \u001b[49m\u001b[38;5;28;43;01mNone\u001b[39;49;00m\u001b[43m)\u001b[49m\u001b[43m,\u001b[49m\n\u001b[0;32m   1884\u001b[0m \u001b[43m    \u001b[49m\u001b[43mcompression\u001b[49m\u001b[38;5;241;43m=\u001b[39;49m\u001b[38;5;28;43mself\u001b[39;49m\u001b[38;5;241;43m.\u001b[39;49m\u001b[43moptions\u001b[49m\u001b[38;5;241;43m.\u001b[39;49m\u001b[43mget\u001b[49m\u001b[43m(\u001b[49m\u001b[38;5;124;43m\"\u001b[39;49m\u001b[38;5;124;43mcompression\u001b[39;49m\u001b[38;5;124;43m\"\u001b[39;49m\u001b[43m,\u001b[49m\u001b[43m \u001b[49m\u001b[38;5;28;43;01mNone\u001b[39;49;00m\u001b[43m)\u001b[49m\u001b[43m,\u001b[49m\n\u001b[0;32m   1885\u001b[0m \u001b[43m    \u001b[49m\u001b[43mmemory_map\u001b[49m\u001b[38;5;241;43m=\u001b[39;49m\u001b[38;5;28;43mself\u001b[39;49m\u001b[38;5;241;43m.\u001b[39;49m\u001b[43moptions\u001b[49m\u001b[38;5;241;43m.\u001b[39;49m\u001b[43mget\u001b[49m\u001b[43m(\u001b[49m\u001b[38;5;124;43m\"\u001b[39;49m\u001b[38;5;124;43mmemory_map\u001b[39;49m\u001b[38;5;124;43m\"\u001b[39;49m\u001b[43m,\u001b[49m\u001b[43m \u001b[49m\u001b[38;5;28;43;01mFalse\u001b[39;49;00m\u001b[43m)\u001b[49m\u001b[43m,\u001b[49m\n\u001b[0;32m   1886\u001b[0m \u001b[43m    \u001b[49m\u001b[43mis_text\u001b[49m\u001b[38;5;241;43m=\u001b[39;49m\u001b[43mis_text\u001b[49m\u001b[43m,\u001b[49m\n\u001b[0;32m   1887\u001b[0m \u001b[43m    \u001b[49m\u001b[43merrors\u001b[49m\u001b[38;5;241;43m=\u001b[39;49m\u001b[38;5;28;43mself\u001b[39;49m\u001b[38;5;241;43m.\u001b[39;49m\u001b[43moptions\u001b[49m\u001b[38;5;241;43m.\u001b[39;49m\u001b[43mget\u001b[49m\u001b[43m(\u001b[49m\u001b[38;5;124;43m\"\u001b[39;49m\u001b[38;5;124;43mencoding_errors\u001b[39;49m\u001b[38;5;124;43m\"\u001b[39;49m\u001b[43m,\u001b[49m\u001b[43m \u001b[49m\u001b[38;5;124;43m\"\u001b[39;49m\u001b[38;5;124;43mstrict\u001b[39;49m\u001b[38;5;124;43m\"\u001b[39;49m\u001b[43m)\u001b[49m\u001b[43m,\u001b[49m\n\u001b[0;32m   1888\u001b[0m \u001b[43m    \u001b[49m\u001b[43mstorage_options\u001b[49m\u001b[38;5;241;43m=\u001b[39;49m\u001b[38;5;28;43mself\u001b[39;49m\u001b[38;5;241;43m.\u001b[39;49m\u001b[43moptions\u001b[49m\u001b[38;5;241;43m.\u001b[39;49m\u001b[43mget\u001b[49m\u001b[43m(\u001b[49m\u001b[38;5;124;43m\"\u001b[39;49m\u001b[38;5;124;43mstorage_options\u001b[39;49m\u001b[38;5;124;43m\"\u001b[39;49m\u001b[43m,\u001b[49m\u001b[43m \u001b[49m\u001b[38;5;28;43;01mNone\u001b[39;49;00m\u001b[43m)\u001b[49m\u001b[43m,\u001b[49m\n\u001b[0;32m   1889\u001b[0m \u001b[43m\u001b[49m\u001b[43m)\u001b[49m\n\u001b[0;32m   1890\u001b[0m \u001b[38;5;28;01massert\u001b[39;00m \u001b[38;5;28mself\u001b[39m\u001b[38;5;241m.\u001b[39mhandles \u001b[38;5;129;01mis\u001b[39;00m \u001b[38;5;129;01mnot\u001b[39;00m \u001b[38;5;28;01mNone\u001b[39;00m\n\u001b[0;32m   1891\u001b[0m f \u001b[38;5;241m=\u001b[39m \u001b[38;5;28mself\u001b[39m\u001b[38;5;241m.\u001b[39mhandles\u001b[38;5;241m.\u001b[39mhandle\n",
      "File \u001b[1;32m~\\anaconda3\\envs\\geospatial\\lib\\site-packages\\pandas\\io\\common.py:873\u001b[0m, in \u001b[0;36mget_handle\u001b[1;34m(path_or_buf, mode, encoding, compression, memory_map, is_text, errors, storage_options)\u001b[0m\n\u001b[0;32m    868\u001b[0m \u001b[38;5;28;01melif\u001b[39;00m \u001b[38;5;28misinstance\u001b[39m(handle, \u001b[38;5;28mstr\u001b[39m):\n\u001b[0;32m    869\u001b[0m     \u001b[38;5;66;03m# Check whether the filename is to be opened in binary mode.\u001b[39;00m\n\u001b[0;32m    870\u001b[0m     \u001b[38;5;66;03m# Binary mode does not support 'encoding' and 'newline'.\u001b[39;00m\n\u001b[0;32m    871\u001b[0m     \u001b[38;5;28;01mif\u001b[39;00m ioargs\u001b[38;5;241m.\u001b[39mencoding \u001b[38;5;129;01mand\u001b[39;00m \u001b[38;5;124m\"\u001b[39m\u001b[38;5;124mb\u001b[39m\u001b[38;5;124m\"\u001b[39m \u001b[38;5;129;01mnot\u001b[39;00m \u001b[38;5;129;01min\u001b[39;00m ioargs\u001b[38;5;241m.\u001b[39mmode:\n\u001b[0;32m    872\u001b[0m         \u001b[38;5;66;03m# Encoding\u001b[39;00m\n\u001b[1;32m--> 873\u001b[0m         handle \u001b[38;5;241m=\u001b[39m \u001b[38;5;28;43mopen\u001b[39;49m\u001b[43m(\u001b[49m\n\u001b[0;32m    874\u001b[0m \u001b[43m            \u001b[49m\u001b[43mhandle\u001b[49m\u001b[43m,\u001b[49m\n\u001b[0;32m    875\u001b[0m \u001b[43m            \u001b[49m\u001b[43mioargs\u001b[49m\u001b[38;5;241;43m.\u001b[39;49m\u001b[43mmode\u001b[49m\u001b[43m,\u001b[49m\n\u001b[0;32m    876\u001b[0m \u001b[43m            \u001b[49m\u001b[43mencoding\u001b[49m\u001b[38;5;241;43m=\u001b[39;49m\u001b[43mioargs\u001b[49m\u001b[38;5;241;43m.\u001b[39;49m\u001b[43mencoding\u001b[49m\u001b[43m,\u001b[49m\n\u001b[0;32m    877\u001b[0m \u001b[43m            \u001b[49m\u001b[43merrors\u001b[49m\u001b[38;5;241;43m=\u001b[39;49m\u001b[43merrors\u001b[49m\u001b[43m,\u001b[49m\n\u001b[0;32m    878\u001b[0m \u001b[43m            \u001b[49m\u001b[43mnewline\u001b[49m\u001b[38;5;241;43m=\u001b[39;49m\u001b[38;5;124;43m\"\u001b[39;49m\u001b[38;5;124;43m\"\u001b[39;49m\u001b[43m,\u001b[49m\n\u001b[0;32m    879\u001b[0m \u001b[43m        \u001b[49m\u001b[43m)\u001b[49m\n\u001b[0;32m    880\u001b[0m     \u001b[38;5;28;01melse\u001b[39;00m:\n\u001b[0;32m    881\u001b[0m         \u001b[38;5;66;03m# Binary mode\u001b[39;00m\n\u001b[0;32m    882\u001b[0m         handle \u001b[38;5;241m=\u001b[39m \u001b[38;5;28mopen\u001b[39m(handle, ioargs\u001b[38;5;241m.\u001b[39mmode)\n",
      "\u001b[1;31mFileNotFoundError\u001b[0m: [Errno 2] No such file or directory: '../data/beer_clean.csv'"
     ]
    }
   ],
   "source": [
    "beer = pd.read_csv('../data/beer_clean.csv')\n",
    "print(beer.shape)\n",
    "beer.head(3)"
   ]
  },
  {
   "cell_type": "code",
   "execution_count": null,
   "id": "a71180f4-6556-4abd-b1ca-32c15ceb803d",
   "metadata": {},
   "outputs": [],
   "source": [
    "beer.info()"
   ]
  },
  {
   "cell_type": "code",
   "execution_count": null,
   "id": "18b7fcf0-761d-4a33-93e9-c8855b313c1f",
   "metadata": {},
   "outputs": [],
   "source": [
    "zipcodes.crs"
   ]
  },
  {
   "cell_type": "code",
   "execution_count": null,
   "id": "b695e760-6e3d-4c8d-973d-38937b4037c3",
   "metadata": {},
   "outputs": [],
   "source": [
    "beer_geo = gpd.GeoDataFrame(beer, \n",
    "                           crs = zipcodes.crs, \n",
    "                           geometry = gpd.points_from_xy(beer.lng, beer.lat))"
   ]
  },
  {
   "cell_type": "code",
   "execution_count": null,
   "id": "b6c633bb-477b-45eb-84d6-b223a971b80b",
   "metadata": {},
   "outputs": [],
   "source": [
    "type(beer_geo)"
   ]
  },
  {
   "cell_type": "code",
   "execution_count": null,
   "id": "5d6e943a-f6e7-46ab-8293-e425c0ec3ebe",
   "metadata": {},
   "outputs": [],
   "source": [
    "zipcodes = zipcodes[['ZIP','City','geometry']]"
   ]
  },
  {
   "cell_type": "code",
   "execution_count": null,
   "id": "63ee71ac-2d50-49ee-85f5-cc0ce5177762",
   "metadata": {},
   "outputs": [],
   "source": [
    "beer_zip = gpd.sjoin(beer_geo,zipcodes, predicate = 'within')"
   ]
  },
  {
   "cell_type": "code",
   "execution_count": null,
   "id": "3d39a489-7585-4dde-9aba-ce6ad57869da",
   "metadata": {},
   "outputs": [],
   "source": [
    "beer_zip.head()"
   ]
  },
  {
   "cell_type": "code",
   "execution_count": null,
   "id": "c910251b-4b52-4665-ba76-5ef0d0695783",
   "metadata": {},
   "outputs": [],
   "source": [
    "beer_zip['ZIP'].value_counts()"
   ]
  },
  {
   "cell_type": "code",
   "execution_count": null,
   "id": "f8b6ef78-72d4-4fa0-80d4-336b021c3ead",
   "metadata": {},
   "outputs": [],
   "source": [
    "beer_37203 = beer_zip.loc[beer_zip['ZIP'] == '37203.0']\n",
    "beer_37203.shape"
   ]
  },
  {
   "cell_type": "code",
   "execution_count": null,
   "id": "b8254f98-58d3-49a9-980f-52e40bda690f",
   "metadata": {},
   "outputs": [],
   "source": []
  }
 ],
 "metadata": {
  "kernelspec": {
   "display_name": "Python 3 (ipykernel)",
   "language": "python",
   "name": "python3"
  },
  "language_info": {
   "codemirror_mode": {
    "name": "ipython",
    "version": 3
   },
   "file_extension": ".py",
   "mimetype": "text/x-python",
   "name": "python",
   "nbconvert_exporter": "python",
   "pygments_lexer": "ipython3",
   "version": "3.10.17"
  }
 },
 "nbformat": 4,
 "nbformat_minor": 5
}
